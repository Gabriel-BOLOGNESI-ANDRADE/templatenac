{
 "cells": [
  {
   "cell_type": "code",
   "execution_count": null,
   "id": "fca01f00",
   "metadata": {},
   "outputs": [
    {
     "name": "stdout",
     "output_type": "stream",
     "text": [
      "ERROR! Session/line number was not unique in database. History logging moved to new session 4\n"
     ]
    }
   ],
   "source": [
    "import cv2 as cv\n",
    "from matplotlib import pyplot as plt\n",
    "import numpy as np\n",
    "\n",
    "img = cv.imread('PrintNac.png',0)\n",
    "img = cv.medianBlur(img,5)\n",
    "cimg = cv.cvtColor(img,cv.COLOR_GRAY2BGR)\n",
    "\n",
    "circles = cv.HoughCircles(img,cv.HOUGH_GRADIENT,dp=10,minDist=400,param1=400,param2=600,minRadius=350,maxRadius=450)\n",
    "\n",
    "circles = np.uint16(np.around(circles))\n",
    "mask = np.zeros(cimg.shape[:2],dtype=\"uint8\")\n",
    "raio = []\n",
    "\n",
    "for i in circles[0,:]:\n",
    "    cv.circle(mask,(i[0],i[1]),i[2],(255,255,255),-1)\n",
    "    raio.append(i[2]/2)\n",
    "\n",
    "print(raio)\n",
    "cimg = cv.bitwise_and(cimg,cimg,mask=mask)\n",
    "gray = cv.cvtColor(cimg, cv.COLOR_BGR2GRAY)\n",
    "gray = cv.blur(gray, (2,2))\n",
    "\n",
    "plt.figure(figsize = (10,10))   \n",
    "plt.imshow(cimg)\n"
   ]
  },
  {
   "cell_type": "code",
   "execution_count": null,
   "id": "86945b65",
   "metadata": {},
   "outputs": [],
   "source": []
  },
  {
   "cell_type": "code",
   "execution_count": null,
   "id": "ee425eeb",
   "metadata": {},
   "outputs": [],
   "source": []
  }
 ],
 "metadata": {
  "kernelspec": {
   "display_name": "Python 3 (ipykernel)",
   "language": "python",
   "name": "python3"
  },
  "language_info": {
   "codemirror_mode": {
    "name": "ipython",
    "version": 3
   },
   "file_extension": ".py",
   "mimetype": "text/x-python",
   "name": "python",
   "nbconvert_exporter": "python",
   "pygments_lexer": "ipython3",
   "version": "3.10.2"
  }
 },
 "nbformat": 4,
 "nbformat_minor": 5
}
